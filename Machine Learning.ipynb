{
 "cells": [
  {
   "cell_type": "code",
   "execution_count": 117,
   "metadata": {},
   "outputs": [],
   "source": [
    "import requests\n",
    "import pandas as pd\n",
    "import numpy as np\n",
    "from bs4 import BeautifulSoup\n",
    "from datetime import datetime\n",
    "import scraping_class\n",
    "import re\n",
    "from geopy.geocoders import Nominatim\n",
    "from geopy.extra.rate_limiter import RateLimiter\n",
    "from Connector import Connector, ratelimit\n",
    "import time\n",
    "import os"
   ]
  },
  {
   "cell_type": "code",
   "execution_count": 118,
   "metadata": {},
   "outputs": [],
   "source": [
    "from sklearn.model_selection import train_test_split\n",
    "from sklearn.pipeline import make_pipeline\n",
    "from sklearn.preprocessing import PolynomialFeatures, StandardScaler\n",
    "from sklearn.model_selection import GridSearchCV\n",
    "from sklearn.linear_model import ElasticNet\n",
    "from sklearn.linear_model import Lasso, LinearRegression, Ridge\n",
    "from sklearn.metrics import mean_squared_error as mse\n",
    "from sklearn.model_selection import validation_curve\n",
    "from sklearn.pipeline import make_pipeline"
   ]
  },
  {
   "cell_type": "code",
   "execution_count": 151,
   "metadata": {},
   "outputs": [],
   "source": [
    "dir = str(os.getcwd())\n",
    "datafile = dir + \"/boliga/data/analysis_data.csv\"\n",
    "df = pd.read_csv(datafile, index_col=0)\n",
    "#seperating municipality\n",
    "address = pd.DataFrame([a[0] + ' ' + a[-1][6:]\\\n",
    "           for a in df['Address'].str.split(',')])\n",
    "header=['ad']\n",
    "address.columns=header\n",
    "\n",
    "municipalities = ['Frederiksberg C', 'Frederiksberg', 'København K', 'København V', 'København S', 'København N', 'København Ø']\n",
    "\n",
    "address_list = []\n",
    "\n",
    "for i in address['ad']: \n",
    "    for x in municipalities:\n",
    "        if x in i:\n",
    "            address_list.append(x)\n",
    "            break\n",
    "\n",
    "# Making a list of municipalities            \n",
    "Municipality = pd.DataFrame(address_list)\n",
    "Municipality.columns=['Municipality']\n",
    "\n",
    "# Adding the list to the housing data\n",
    "df['Municipality'] = Municipality\n",
    "df\n",
    "df = df.drop(['Sell_price', 'sqm_price','Date_of_sale','Address', 'location', 'latitude', 'longitude','m_distance_const', 'm_station_const', 's_distance_const',\n",
    "       's_station_const', 's_station', 'm_station'], axis=1).dropna();\n",
    "df = pd.get_dummies(df)\n",
    "df = df.reset_index(drop=True)\n",
    "y = df.z_sqm_price.to_numpy()\n",
    "X = df.drop(['z_sqm_price', 'Type_ Villa ', 'Municipality_København K'], axis=1).to_numpy()\n",
    "X = np.array(X, dtype=np.float64)\n",
    "X, y;"
   ]
  },
  {
   "cell_type": "code",
   "execution_count": 131,
   "metadata": {},
   "outputs": [],
   "source": [
    "# splitting into development (2/3) and test data (1/3)\n",
    "X_dev, X_test, y_dev, y_test = train_test_split(X, y, test_size=1/3, random_state=34)\n",
    "\n",
    "# splitting development into train (1/3) and validation (1/3)\n",
    "X_train, X_val, y_train, y_val = train_test_split(X_dev, y_dev, test_size=1/2, random_state=52)\n",
    "\n",
    "lambda_ = np.logspace(-1, 1, 22)\n",
    "l1_ratio_ = np.logspace(0, 3, 22)\n",
    "tol = 0.001"
   ]
  },
  {
   "cell_type": "markdown",
   "metadata": {},
   "source": [
    "## OLS Regression"
   ]
  },
  {
   "cell_type": "code",
   "execution_count": null,
   "metadata": {},
   "outputs": [],
   "source": [
    "pipe_OLS = make_pipeline(PolynomialFeatures(degree = 3, include_bias=True), \n",
    "                           StandardScaler(),\n",
    "                           LinearRegression())\n",
    "                         \n",
    "pipe_OLS.fit(X_dev, y_dev)\n",
    "print(mse(pipe_OLS.predict(X_test),y_test)), round(np.sqrt(mse(pipe_OLS.predict(X_test),y_test))))"
   ]
  },
  {
   "cell_type": "markdown",
   "metadata": {},
   "source": [
    "## Lasso Regression"
   ]
  },
  {
   "cell_type": "code",
   "execution_count": 164,
   "metadata": {},
   "outputs": [
    {
     "name": "stdout",
     "output_type": "stream",
     "text": [
      "Float64Index([0.1], dtype='float64', name='lambda')   754.863 27.475\n"
     ]
    }
   ],
   "source": [
    "pipe_lasso = make_pipeline(PolynomialFeatures(degree = 3, include_bias=True), \n",
    "                           StandardScaler(),\n",
    "                           Lasso(max_iter = 10000, alpha=lambda_, tol=tol))\n",
    "\n",
    "train_scores, test_scores = validation_curve(estimator=pipe_lasso,\n",
    "                                             X=X_train, y=y_train,\n",
    "                                             param_name='lasso__alpha',\n",
    "                                             param_range=lambda_,\n",
    "                                             scoring='neg_mean_squared_error',\n",
    "                                             cv=5)\n",
    "\n",
    "mse_score = pd.DataFrame({'Train':-train_scores.mean(axis=1),\n",
    "                          'Validation':-test_scores.mean(axis=1),\n",
    "                          'lambda':lambda_}).set_index('lambda')   \n",
    "\n",
    "optimal_lambda_lasso = mse_score.Validation.nsmallest(1)\n",
    "lambda_o_ = optimal_lambda_lasso.index\n",
    "\n",
    "#testing\n",
    "pipe_lasso = make_pipeline(PolynomialFeatures(degree = 3, include_bias=True), \n",
    "                           StandardScaler(),\n",
    "                           Lasso(max_iter = 10000, alpha=optimal_lambda_lasso.index, tol=tol))\n",
    "\n",
    "pipe_lasso.fit(X_dev, y_dev)\n",
    "print(lambda_o_,' ',round(mse(pipe_lasso.predict(X_test),y_test),3), round(np.sqrt(mse(pipe_lasso.predict(X_test),y_test)),3))"
   ]
  },
  {
   "cell_type": "markdown",
   "metadata": {},
   "source": [
    "## Ridge Regression"
   ]
  },
  {
   "cell_type": "code",
   "execution_count": 178,
   "metadata": {},
   "outputs": [],
   "source": [
    "pipe_ridge = make_pipeline(PolynomialFeatures(degree = 3, include_bias=True), \n",
    "                           StandardScaler(),\n",
    "                           Ridge(alpha = l1_ratio_, tol=tol))\n",
    "\n",
    "train_scores, test_scores = validation_curve(estimator=pipe_ridge,\n",
    "                                             X=X_train, y=y_train,\n",
    "                                             param_name='ridge__alpha',\n",
    "                                             param_range=l1_ratio_,\n",
    "                                             scoring='neg_mean_squared_error',\n",
    "                                             cv=5)\n",
    "\n",
    "mse_score = pd.DataFrame({'Train':-train_scores.mean(axis=1),\n",
    "                          'Validation':-test_scores.mean(axis=1),\n",
    "                          'lambda':l1_ratio_}).set_index('lambda')   \n",
    "\n",
    "lambda_o_ = mse_score.Validation.nsmallest(1)\n",
    "lambda_o_ = lambda_o_.index"
   ]
  },
  {
   "cell_type": "code",
   "execution_count": 179,
   "metadata": {},
   "outputs": [
    {
     "name": "stdout",
     "output_type": "stream",
     "text": [
      "Float64Index([100.0], dtype='float64', name='lambda')   761.577 27.597\n"
     ]
    }
   ],
   "source": [
    "#testing\n",
    "pipe_ridge = make_pipeline(PolynomialFeatures(degree = 3, include_bias=True), \n",
    "                           StandardScaler(),\n",
    "                           Ridge(alpha = lambda_o_, tol=tol))\n",
    "\n",
    "pipe_ridge.fit(X_dev, y_dev)\n",
    "print(lambda_o_,' ', round(mse(pipe_ridge.predict(X_test),y_test),3), round(np.sqrt(mse(pipe_ridge.predict(X_test),y_test)),3))"
   ]
  },
  {
   "cell_type": "markdown",
   "metadata": {},
   "source": [
    "## LassoCV"
   ]
  },
  {
   "cell_type": "code",
   "execution_count": 170,
   "metadata": {},
   "outputs": [],
   "source": [
    "from sklearn.model_selection import KFold\n",
    "kfolds = KFold(n_splits=10)\n",
    "folds = list(kfolds.split(X_dev, y_dev))\n",
    "\n",
    "# outer loop: lambdas\n",
    "mseCV = []\n",
    "for lambda__ in lambda_:    \n",
    "    # inner loop: folds\n",
    "    mseCV_ = []    \n",
    "    for train_idx, val_idx in folds :        \n",
    "        # train model and compute MSE on test fold\n",
    "        pipe_lassoCV = make_pipeline(PolynomialFeatures(degree=3, include_bias=False),\n",
    "                                     StandardScaler(),\n",
    "                                     Lasso(max_iter = 10000, alpha=lambda__, tol=tol))            \n",
    "        X_train, y_train, = X_dev[train_idx], y_dev[train_idx]\n",
    "        X_val, y_val = X_dev[val_idx], y_dev[val_idx] \n",
    "        pipe_lassoCV.fit(X_train, y_train)        \n",
    "        mseCV_.append(mse(pipe_lassoCV.predict(X_val), y_val))    \n",
    "        \n",
    "    # store result    \n",
    "    mseCV.append(mseCV_) \n",
    "    \n",
    "# convert to DataFrame\n",
    "lambdaCV = pd.DataFrame(mseCV, index=lambda_)\n",
    "lambdaCV['m'] = lambdaCV.mean(axis=1)\n",
    "lambda_o_ = lambdaCV['m'].nsmallest(1).index"
   ]
  },
  {
   "cell_type": "code",
   "execution_count": 172,
   "metadata": {},
   "outputs": [
    {
     "name": "stdout",
     "output_type": "stream",
     "text": [
      "Float64Index([0.12451970847350328], dtype='float64')   754.278 27.464\n"
     ]
    }
   ],
   "source": [
    "pipe_lassoCV = make_pipeline(PolynomialFeatures(degree=3, include_bias=False),\n",
    "                                     StandardScaler(),\n",
    "                                     Lasso(max_iter = 10000, alpha=lambda_o_, tol=tol))\n",
    "\n",
    "pipe_lassoCV.fit(X_dev, y_dev)\n",
    "print(lambda_o_,' ',round(mse(pipe_lassoCV.predict(X_test),y_test),3), round(np.sqrt(mse(pipe_lassoCV.predict(X_test),y_test)),3))"
   ]
  },
  {
   "cell_type": "markdown",
   "metadata": {},
   "source": [
    "## RidgeCV"
   ]
  },
  {
   "cell_type": "code",
   "execution_count": 173,
   "metadata": {},
   "outputs": [],
   "source": [
    "# outer loop: lambdas\n",
    "mseCV = []\n",
    "for l1_ratio__ in l1_ratio_:    \n",
    "    # inner loop: folds\n",
    "    mseCV_ = []    \n",
    "    for train_idx, val_idx in folds :        \n",
    "        # train model and compute MSE on test fold\n",
    "        pipe_ridgeCV = make_pipeline(PolynomialFeatures(degree = 3, include_bias=True), \n",
    "                           StandardScaler(),\n",
    "                           Ridge(alpha = l1_ratio__, tol=tol))          \n",
    "        X_train, y_train, = X_dev[train_idx], y_dev[train_idx]\n",
    "        X_val, y_val = X_dev[val_idx], y_dev[val_idx] \n",
    "        pipe_ridgeCV.fit(X_train, y_train)        \n",
    "        mseCV_.append(mse(pipe_ridgeCV.predict(X_val), y_val))    \n",
    "        \n",
    "    # store result    \n",
    "    mseCV.append(mseCV_) \n",
    "    \n",
    "# convert to DataFrame\n",
    "lambdaCV = pd.DataFrame(mseCV, index=lambda_)\n",
    "lambdaCV['m'] = lambdaCV.mean(axis=1)\n",
    "lambda_o_ = lambdaCV['m'].nsmallest(1).index"
   ]
  },
  {
   "cell_type": "code",
   "execution_count": 175,
   "metadata": {},
   "outputs": [
    {
     "name": "stdout",
     "output_type": "stream",
     "text": [
      "Float64Index([1.7301957388458944], dtype='float64')   760.581 27.579\n"
     ]
    }
   ],
   "source": [
    "pipe_ridgeCV = make_pipeline(PolynomialFeatures(degree = 3, include_bias=True), \n",
    "                           StandardScaler(),\n",
    "                           Ridge(alpha = l1_ratio__, tol=tol))\n",
    "\n",
    "pipe_ridgeCV.fit(X_dev, y_dev)\n",
    "print(lambda_o_,' ', round(mse(pipe_ridgeCV.predict(X_test),y_test),3), round(np.sqrt(mse(pipe_ridgeCV.predict(X_test),y_test)),3))"
   ]
  },
  {
   "cell_type": "markdown",
   "metadata": {},
   "source": [
    "## ElasticNet"
   ]
  },
  {
   "cell_type": "code",
   "execution_count": 185,
   "metadata": {},
   "outputs": [
    {
     "name": "stderr",
     "output_type": "stream",
     "text": [
      "/Library/Frameworks/Python.framework/Versions/3.7/lib/python3.7/site-packages/sklearn/model_selection/_search.py:764: RuntimeWarning: invalid value encountered in subtract\n",
      "  array_means[:, np.newaxis]) ** 2,\n",
      "/Library/Frameworks/Python.framework/Versions/3.7/lib/python3.7/site-packages/sklearn/model_selection/_search.py:764: RuntimeWarning: overflow encountered in square\n",
      "  array_means[:, np.newaxis]) ** 2,\n"
     ]
    },
    {
     "data": {
      "text/plain": [
       "array([ -9.18896539,  -2.25294009,  -9.81766336, ...,  16.91604949,\n",
       "        -1.58708503, -14.135312  ])"
      ]
     },
     "execution_count": 185,
     "metadata": {},
     "output_type": "execute_result"
    }
   ],
   "source": [
    "from sklearn.model_selection import GridSearchCV\n",
    "from sklearn.linear_model import ElasticNet\n",
    "\n",
    "pipe_el = make_pipeline(PolynomialFeatures(include_bias=False), \n",
    "                        StandardScaler(),\n",
    "                        ElasticNet(tol=.01))\n",
    "\n",
    "gs = GridSearchCV(estimator=pipe_el, \n",
    "                  param_grid={'elasticnet__alpha':np.logspace(-1,1,22),\n",
    "                              'elasticnet__l1_ratio':np.linspace(0,3,10)}, \n",
    "                  scoring='neg_mean_squared_error', \n",
    "                  n_jobs=8,\n",
    "                  iid=False,\n",
    "                  cv=10)\n",
    "\n",
    "gs.fit(X_train, y_train)\n",
    "gs.predict(X_train)"
   ]
  },
  {
   "cell_type": "code",
   "execution_count": 186,
   "metadata": {},
   "outputs": [
    {
     "name": "stdout",
     "output_type": "stream",
     "text": [
      "{'elasticnet__alpha': 0.15505157798326247, 'elasticnet__l1_ratio': 1.0}\n",
      "Float64Index([100.0], dtype='float64', name='lambda')   772.807 27.799\n"
     ]
    }
   ],
   "source": [
    "print(gs.best_params_)\n",
    "print(lambda_o_,' ', round(mse(gs.predict(X_test),y_test),3), round(np.sqrt(mse(gs.predict(X_test),y_test)),3))"
   ]
  },
  {
   "cell_type": "code",
   "execution_count": 196,
   "metadata": {},
   "outputs": [],
   "source": [
    "lambda_o_ = gs.best_params_"
   ]
  },
  {
   "cell_type": "code",
   "execution_count": 202,
   "metadata": {},
   "outputs": [
    {
     "data": {
      "text/plain": [
       "0.15505157798326247"
      ]
     },
     "execution_count": 202,
     "metadata": {},
     "output_type": "execute_result"
    }
   ],
   "source": [
    "lambda_o_['elasticnet__alpha']"
   ]
  },
  {
   "cell_type": "code",
   "execution_count": 203,
   "metadata": {},
   "outputs": [],
   "source": [
    "pipe_el = make_pipeline(PolynomialFeatures(include_bias=False), \n",
    "                        StandardScaler(),\n",
    "                        ElasticNet(alpha = lambda_o_['elasticnet__alpha'],\n",
    "                                   l1_ratio= lambda_o_['elasticnet__l1_ratio'],\n",
    "                                   tol=.01))"
   ]
  },
  {
   "cell_type": "code",
   "execution_count": 206,
   "metadata": {},
   "outputs": [
    {
     "data": {
      "text/plain": [
       "array([10.99173854, 19.97830203, -6.56441019, ...,  5.09878742,\n",
       "       -1.62984356,  4.02023822])"
      ]
     },
     "execution_count": 206,
     "metadata": {},
     "output_type": "execute_result"
    }
   ],
   "source": [
    "pipe_el.fit(X_dev, y_dev)\n",
    "pipe_el.predict(X_test)"
   ]
  },
  {
   "cell_type": "code",
   "execution_count": 209,
   "metadata": {},
   "outputs": [
    {
     "data": {
      "text/plain": [
       "(769.556, 27.741)"
      ]
     },
     "execution_count": 209,
     "metadata": {},
     "output_type": "execute_result"
    }
   ],
   "source": [
    "round(mse(pipe_el.predict(X_test),y_test),3), round(np.sqrt(mse(pipe_el.predict(X_test),y_test)),3)"
   ]
  },
  {
   "cell_type": "markdown",
   "metadata": {},
   "source": [
    "### Latex tabel with overview model fit\n",
    "```\n",
    "\\begin{table}[]\n",
    "\\begin{tabular}{lcccccc}\n",
    " & \\multicolumn{1}{l}{\\textbf{OLS}} & \\multicolumn{1}{l}{\\textbf{Lasso}} & \\multicolumn{1}{l}{\\textbf{LassoCV}} & \\multicolumn{1}{l}{\\textbf{Ridge}} & \\multicolumn{1}{l}{\\textbf{RidgeCV}} & \\multicolumn{1}{l}{\\textbf{ElasticNet}} \\\\\n",
    "Lambda & - & 0.100 & .125 & 100.000 & 1.730 & (.155, 1.000) \\\\\n",
    "MSE & 5.4e25 & 754.863 & 754.278 & 761.543 & 760.581 & 769.556 \\\\\n",
    "RMSE & 7.4e12 & 27.475 & 27.464 & 27.596 & 27.579 & 27.741\n",
    "\\end{tabular}\n",
    "\\end{table}\n",
    "```"
   ]
  },
  {
   "cell_type": "markdown",
   "metadata": {},
   "source": [
    "# lassoCV preforms best: "
   ]
  },
  {
   "cell_type": "code",
   "execution_count": null,
   "metadata": {},
   "outputs": [],
   "source": []
  }
 ],
 "metadata": {
  "kernelspec": {
   "display_name": "Python 3",
   "language": "python",
   "name": "python3"
  },
  "language_info": {
   "codemirror_mode": {
    "name": "ipython",
    "version": 3
   },
   "file_extension": ".py",
   "mimetype": "text/x-python",
   "name": "python",
   "nbconvert_exporter": "python",
   "pygments_lexer": "ipython3",
   "version": "3.7.3"
  }
 },
 "nbformat": 4,
 "nbformat_minor": 2
}
