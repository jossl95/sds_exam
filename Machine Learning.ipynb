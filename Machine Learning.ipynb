{
 "cells": [
  {
   "cell_type": "code",
   "execution_count": 6,
   "metadata": {},
   "outputs": [],
   "source": [
    "import requests\n",
    "import pandas as pd\n",
    "import numpy as np\n",
    "from bs4 import BeautifulSoup\n",
    "from datetime import datetime\n",
    "import scraping_class\n",
    "import re\n",
    "from geopy.geocoders import Nominatim\n",
    "from geopy.extra.rate_limiter import RateLimiter\n",
    "from Connector import Connector, ratelimit\n",
    "import time\n",
    "import os"
   ]
  },
  {
   "cell_type": "code",
   "execution_count": 7,
   "metadata": {},
   "outputs": [],
   "source": [
    "from sklearn.model_selection import train_test_split\n",
    "from sklearn.pipeline import make_pipeline\n",
    "from sklearn.preprocessing import PolynomialFeatures, StandardScaler\n",
    "from sklearn.model_selection import GridSearchCV\n",
    "from sklearn.linear_model import ElasticNet\n",
    "from sklearn.linear_model import Lasso, LinearRegression, Ridge\n",
    "from sklearn.metrics import mean_squared_error as mse\n",
    "from sklearn.model_selection import validation_curve\n",
    "from sklearn.pipeline import make_pipeline"
   ]
  },
  {
   "cell_type": "code",
   "execution_count": 161,
   "metadata": {},
   "outputs": [
    {
     "data": {
      "text/html": [
       "<div>\n",
       "<style scoped>\n",
       "    .dataframe tbody tr th:only-of-type {\n",
       "        vertical-align: middle;\n",
       "    }\n",
       "\n",
       "    .dataframe tbody tr th {\n",
       "        vertical-align: top;\n",
       "    }\n",
       "\n",
       "    .dataframe thead th {\n",
       "        text-align: right;\n",
       "    }\n",
       "</style>\n",
       "<table border=\"1\" class=\"dataframe\">\n",
       "  <thead>\n",
       "    <tr style=\"text-align: right;\">\n",
       "      <th></th>\n",
       "      <th>Address</th>\n",
       "      <th>Sell_price</th>\n",
       "      <th>Date_of_sale</th>\n",
       "      <th>Type</th>\n",
       "      <th>sqm_price</th>\n",
       "      <th>Rooms</th>\n",
       "      <th>m2</th>\n",
       "      <th>Building_year</th>\n",
       "      <th>location</th>\n",
       "      <th>latitude</th>\n",
       "      <th>...</th>\n",
       "      <th>m_distance</th>\n",
       "      <th>m_station</th>\n",
       "      <th>s_distance</th>\n",
       "      <th>s_station</th>\n",
       "      <th>m_distance_const</th>\n",
       "      <th>m_station_const</th>\n",
       "      <th>s_distance_const</th>\n",
       "      <th>s_station_const</th>\n",
       "      <th>c_distance</th>\n",
       "      <th>z_sqm_price</th>\n",
       "    </tr>\n",
       "  </thead>\n",
       "  <tbody>\n",
       "    <tr>\n",
       "      <td>5017</td>\n",
       "      <td>Lundtoftegade 82, 3. tv, 2200 København N</td>\n",
       "      <td>1350000</td>\n",
       "      <td>2002-01-01</td>\n",
       "      <td>Ejerlejlighed</td>\n",
       "      <td>14211</td>\n",
       "      <td>4</td>\n",
       "      <td>95</td>\n",
       "      <td>1907</td>\n",
       "      <td>82, Lundtoftegade, Nørrebro, København, Københ...</td>\n",
       "      <td>55.697419</td>\n",
       "      <td>...</td>\n",
       "      <td>NaN</td>\n",
       "      <td>NaN</td>\n",
       "      <td>0.35445</td>\n",
       "      <td>Nørrebro</td>\n",
       "      <td>1.852</td>\n",
       "      <td>Frederiksberg</td>\n",
       "      <td>2.788</td>\n",
       "      <td>Flintholm</td>\n",
       "      <td>2.302</td>\n",
       "      <td>-3.040710</td>\n",
       "    </tr>\n",
       "    <tr>\n",
       "      <td>5018</td>\n",
       "      <td>Møllegårdsvej 4, 2100 København Ø</td>\n",
       "      <td>2549736</td>\n",
       "      <td>2002-01-02</td>\n",
       "      <td>Villa</td>\n",
       "      <td>16998</td>\n",
       "      <td>5</td>\n",
       "      <td>150</td>\n",
       "      <td>1930</td>\n",
       "      <td>4, Møllegårdsvej, Emdrup, København, København...</td>\n",
       "      <td>55.720478</td>\n",
       "      <td>...</td>\n",
       "      <td>NaN</td>\n",
       "      <td>NaN</td>\n",
       "      <td>0.54183</td>\n",
       "      <td>Emdrup</td>\n",
       "      <td>4.316</td>\n",
       "      <td>Forum</td>\n",
       "      <td>4.987</td>\n",
       "      <td>Flintholm</td>\n",
       "      <td>3.970</td>\n",
       "      <td>14.462334</td>\n",
       "    </tr>\n",
       "    <tr>\n",
       "      <td>5019</td>\n",
       "      <td>Falstersvej 10, 5. tv, 2000 Frederiksberg</td>\n",
       "      <td>1191000</td>\n",
       "      <td>2002-01-02</td>\n",
       "      <td>Ejerlejlighed</td>\n",
       "      <td>19850</td>\n",
       "      <td>3</td>\n",
       "      <td>60</td>\n",
       "      <td>1902</td>\n",
       "      <td>10, Falstersvej, Frederiksberg, Frederiksberg ...</td>\n",
       "      <td>55.686003</td>\n",
       "      <td>...</td>\n",
       "      <td>NaN</td>\n",
       "      <td>NaN</td>\n",
       "      <td>0.86866</td>\n",
       "      <td>Grøndal</td>\n",
       "      <td>0.529</td>\n",
       "      <td>Fasanvej</td>\n",
       "      <td>1.719</td>\n",
       "      <td>Flintholm</td>\n",
       "      <td>2.725</td>\n",
       "      <td>33.416378</td>\n",
       "    </tr>\n",
       "    <tr>\n",
       "      <td>5020</td>\n",
       "      <td>Volosvej 9, 2300 København S</td>\n",
       "      <td>1823440</td>\n",
       "      <td>2002-01-02</td>\n",
       "      <td>Villa</td>\n",
       "      <td>16577</td>\n",
       "      <td>5</td>\n",
       "      <td>110</td>\n",
       "      <td>1927</td>\n",
       "      <td>9, Volosvej, København, Københavns Kommune, Re...</td>\n",
       "      <td>55.648068</td>\n",
       "      <td>...</td>\n",
       "      <td>NaN</td>\n",
       "      <td>NaN</td>\n",
       "      <td>4.25001</td>\n",
       "      <td>Dybbølsbro</td>\n",
       "      <td>1.170</td>\n",
       "      <td>Amager Strand</td>\n",
       "      <td>5.549</td>\n",
       "      <td>Carlsberg</td>\n",
       "      <td>5.318</td>\n",
       "      <td>11.847802</td>\n",
       "    </tr>\n",
       "    <tr>\n",
       "      <td>5021</td>\n",
       "      <td>Svend Dyrings Vej 9, 2300 København S</td>\n",
       "      <td>1952000</td>\n",
       "      <td>2002-01-03</td>\n",
       "      <td>Villa</td>\n",
       "      <td>16542</td>\n",
       "      <td>5</td>\n",
       "      <td>118</td>\n",
       "      <td>1924</td>\n",
       "      <td>9, Svend Dyrings Vej, København, Københavns Ko...</td>\n",
       "      <td>55.651354</td>\n",
       "      <td>...</td>\n",
       "      <td>NaN</td>\n",
       "      <td>NaN</td>\n",
       "      <td>4.95436</td>\n",
       "      <td>Dybbølsbro</td>\n",
       "      <td>0.553</td>\n",
       "      <td>Amager Strand</td>\n",
       "      <td>6.330</td>\n",
       "      <td>Carlsberg</td>\n",
       "      <td>5.639</td>\n",
       "      <td>11.353197</td>\n",
       "    </tr>\n",
       "    <tr>\n",
       "      <td>...</td>\n",
       "      <td>...</td>\n",
       "      <td>...</td>\n",
       "      <td>...</td>\n",
       "      <td>...</td>\n",
       "      <td>...</td>\n",
       "      <td>...</td>\n",
       "      <td>...</td>\n",
       "      <td>...</td>\n",
       "      <td>...</td>\n",
       "      <td>...</td>\n",
       "      <td>...</td>\n",
       "      <td>...</td>\n",
       "      <td>...</td>\n",
       "      <td>...</td>\n",
       "      <td>...</td>\n",
       "      <td>...</td>\n",
       "      <td>...</td>\n",
       "      <td>...</td>\n",
       "      <td>...</td>\n",
       "      <td>...</td>\n",
       "      <td>...</td>\n",
       "    </tr>\n",
       "    <tr>\n",
       "      <td>12537</td>\n",
       "      <td>Koldinggade 8, 1. tv, 2100 København Ø</td>\n",
       "      <td>1615000</td>\n",
       "      <td>2007-12-28</td>\n",
       "      <td>Ejerlejlighed</td>\n",
       "      <td>22431</td>\n",
       "      <td>3</td>\n",
       "      <td>72</td>\n",
       "      <td>1905</td>\n",
       "      <td>8, Koldinggade, Indre Østerbro, Østerbro, Købe...</td>\n",
       "      <td>55.706678</td>\n",
       "      <td>...</td>\n",
       "      <td>2.63942</td>\n",
       "      <td>Nørreport</td>\n",
       "      <td>0.76167</td>\n",
       "      <td>Nordhavn</td>\n",
       "      <td>NaN</td>\n",
       "      <td>NaN</td>\n",
       "      <td>5.474</td>\n",
       "      <td>Carlsberg</td>\n",
       "      <td>2.291</td>\n",
       "      <td>-14.615361</td>\n",
       "    </tr>\n",
       "    <tr>\n",
       "      <td>12538</td>\n",
       "      <td>Randersgade 17, 3. tv, 2100 København Ø</td>\n",
       "      <td>2000000</td>\n",
       "      <td>2007-12-28</td>\n",
       "      <td>Ejerlejlighed</td>\n",
       "      <td>29412</td>\n",
       "      <td>2</td>\n",
       "      <td>68</td>\n",
       "      <td>1958</td>\n",
       "      <td>17, Randersgade, Indre Østerbro, Østerbro, Køb...</td>\n",
       "      <td>55.703191</td>\n",
       "      <td>...</td>\n",
       "      <td>2.29033</td>\n",
       "      <td>Nørreport</td>\n",
       "      <td>0.65008</td>\n",
       "      <td>Nordhavn</td>\n",
       "      <td>NaN</td>\n",
       "      <td>NaN</td>\n",
       "      <td>5.214</td>\n",
       "      <td>Carlsberg</td>\n",
       "      <td>1.962</td>\n",
       "      <td>12.807649</td>\n",
       "    </tr>\n",
       "    <tr>\n",
       "      <td>12539</td>\n",
       "      <td>Langelandsvej 41, 3. th, 2000 Frederiksberg</td>\n",
       "      <td>1800000</td>\n",
       "      <td>2007-12-28</td>\n",
       "      <td>Ejerlejlighed</td>\n",
       "      <td>26471</td>\n",
       "      <td>3</td>\n",
       "      <td>68</td>\n",
       "      <td>1898</td>\n",
       "      <td>41, Langelandsvej, Frederiksberg, Frederiksber...</td>\n",
       "      <td>55.685779</td>\n",
       "      <td>...</td>\n",
       "      <td>0.52103</td>\n",
       "      <td>Frederiksberg</td>\n",
       "      <td>1.08322</td>\n",
       "      <td>Grøndal</td>\n",
       "      <td>NaN</td>\n",
       "      <td>NaN</td>\n",
       "      <td>2.462</td>\n",
       "      <td>Carlsberg</td>\n",
       "      <td>2.487</td>\n",
       "      <td>1.759745</td>\n",
       "    </tr>\n",
       "    <tr>\n",
       "      <td>12540</td>\n",
       "      <td>Haderslevgade 16, 4. th, 1671 København V</td>\n",
       "      <td>2800000</td>\n",
       "      <td>2007-12-28</td>\n",
       "      <td>Ejerlejlighed</td>\n",
       "      <td>34568</td>\n",
       "      <td>1</td>\n",
       "      <td>81</td>\n",
       "      <td>1905</td>\n",
       "      <td>16, Haderslevgade, Sorte Hest, Frederiks Brygg...</td>\n",
       "      <td>55.667675</td>\n",
       "      <td>...</td>\n",
       "      <td>1.62908</td>\n",
       "      <td>Forum</td>\n",
       "      <td>0.90511</td>\n",
       "      <td>Dybbølsbro</td>\n",
       "      <td>NaN</td>\n",
       "      <td>NaN</td>\n",
       "      <td>0.736</td>\n",
       "      <td>Carlsberg</td>\n",
       "      <td>2.617</td>\n",
       "      <td>30.410507</td>\n",
       "    </tr>\n",
       "    <tr>\n",
       "      <td>12541</td>\n",
       "      <td>Asger Rygs Gade 1, 3. th, 1727 København V</td>\n",
       "      <td>2100000</td>\n",
       "      <td>2007-12-30</td>\n",
       "      <td>Ejerlejlighed</td>\n",
       "      <td>35593</td>\n",
       "      <td>2</td>\n",
       "      <td>59</td>\n",
       "      <td>1906</td>\n",
       "      <td>1, Asger Rygs Gade, Kødbyen, Vesterbro, Københ...</td>\n",
       "      <td>55.665659</td>\n",
       "      <td>...</td>\n",
       "      <td>1.79343</td>\n",
       "      <td>Forum</td>\n",
       "      <td>0.50432</td>\n",
       "      <td>Dybbølsbro</td>\n",
       "      <td>NaN</td>\n",
       "      <td>NaN</td>\n",
       "      <td>0.986</td>\n",
       "      <td>Carlsberg</td>\n",
       "      <td>2.621</td>\n",
       "      <td>32.956383</td>\n",
       "    </tr>\n",
       "  </tbody>\n",
       "</table>\n",
       "<p>7525 rows × 21 columns</p>\n",
       "</div>"
      ],
      "text/plain": [
       "                                            Address  Sell_price Date_of_sale  \\\n",
       "5017      Lundtoftegade 82, 3. tv, 2200 København N     1350000   2002-01-01   \n",
       "5018              Møllegårdsvej 4, 2100 København Ø     2549736   2002-01-02   \n",
       "5019      Falstersvej 10, 5. tv, 2000 Frederiksberg     1191000   2002-01-02   \n",
       "5020                   Volosvej 9, 2300 København S     1823440   2002-01-02   \n",
       "5021          Svend Dyrings Vej 9, 2300 København S     1952000   2002-01-03   \n",
       "...                                             ...         ...          ...   \n",
       "12537        Koldinggade 8, 1. tv, 2100 København Ø     1615000   2007-12-28   \n",
       "12538       Randersgade 17, 3. tv, 2100 København Ø     2000000   2007-12-28   \n",
       "12539   Langelandsvej 41, 3. th, 2000 Frederiksberg     1800000   2007-12-28   \n",
       "12540     Haderslevgade 16, 4. th, 1671 København V     2800000   2007-12-28   \n",
       "12541    Asger Rygs Gade 1, 3. th, 1727 København V     2100000   2007-12-30   \n",
       "\n",
       "                  Type  sqm_price  Rooms   m2  Building_year  \\\n",
       "5017    Ejerlejlighed       14211      4   95           1907   \n",
       "5018            Villa       16998      5  150           1930   \n",
       "5019    Ejerlejlighed       19850      3   60           1902   \n",
       "5020            Villa       16577      5  110           1927   \n",
       "5021            Villa       16542      5  118           1924   \n",
       "...                ...        ...    ...  ...            ...   \n",
       "12537   Ejerlejlighed       22431      3   72           1905   \n",
       "12538   Ejerlejlighed       29412      2   68           1958   \n",
       "12539   Ejerlejlighed       26471      3   68           1898   \n",
       "12540   Ejerlejlighed       34568      1   81           1905   \n",
       "12541   Ejerlejlighed       35593      2   59           1906   \n",
       "\n",
       "                                                location   latitude  ...  \\\n",
       "5017   82, Lundtoftegade, Nørrebro, København, Københ...  55.697419  ...   \n",
       "5018   4, Møllegårdsvej, Emdrup, København, København...  55.720478  ...   \n",
       "5019   10, Falstersvej, Frederiksberg, Frederiksberg ...  55.686003  ...   \n",
       "5020   9, Volosvej, København, Københavns Kommune, Re...  55.648068  ...   \n",
       "5021   9, Svend Dyrings Vej, København, Københavns Ko...  55.651354  ...   \n",
       "...                                                  ...        ...  ...   \n",
       "12537  8, Koldinggade, Indre Østerbro, Østerbro, Købe...  55.706678  ...   \n",
       "12538  17, Randersgade, Indre Østerbro, Østerbro, Køb...  55.703191  ...   \n",
       "12539  41, Langelandsvej, Frederiksberg, Frederiksber...  55.685779  ...   \n",
       "12540  16, Haderslevgade, Sorte Hest, Frederiks Brygg...  55.667675  ...   \n",
       "12541  1, Asger Rygs Gade, Kødbyen, Vesterbro, Københ...  55.665659  ...   \n",
       "\n",
       "       m_distance      m_station s_distance   s_station m_distance_const  \\\n",
       "5017          NaN            NaN    0.35445    Nørrebro            1.852   \n",
       "5018          NaN            NaN    0.54183      Emdrup            4.316   \n",
       "5019          NaN            NaN    0.86866     Grøndal            0.529   \n",
       "5020          NaN            NaN    4.25001  Dybbølsbro            1.170   \n",
       "5021          NaN            NaN    4.95436  Dybbølsbro            0.553   \n",
       "...           ...            ...        ...         ...              ...   \n",
       "12537     2.63942      Nørreport    0.76167    Nordhavn              NaN   \n",
       "12538     2.29033      Nørreport    0.65008    Nordhavn              NaN   \n",
       "12539     0.52103  Frederiksberg    1.08322     Grøndal              NaN   \n",
       "12540     1.62908          Forum    0.90511  Dybbølsbro              NaN   \n",
       "12541     1.79343          Forum    0.50432  Dybbølsbro              NaN   \n",
       "\n",
       "       m_station_const s_distance_const  s_station_const c_distance  \\\n",
       "5017     Frederiksberg            2.788        Flintholm      2.302   \n",
       "5018             Forum            4.987        Flintholm      3.970   \n",
       "5019          Fasanvej            1.719        Flintholm      2.725   \n",
       "5020     Amager Strand            5.549        Carlsberg      5.318   \n",
       "5021     Amager Strand            6.330        Carlsberg      5.639   \n",
       "...                ...              ...              ...        ...   \n",
       "12537              NaN            5.474        Carlsberg      2.291   \n",
       "12538              NaN            5.214        Carlsberg      1.962   \n",
       "12539              NaN            2.462        Carlsberg      2.487   \n",
       "12540              NaN            0.736        Carlsberg      2.617   \n",
       "12541              NaN            0.986        Carlsberg      2.621   \n",
       "\n",
       "       z_sqm_price  \n",
       "5017     -3.040710  \n",
       "5018     14.462334  \n",
       "5019     33.416378  \n",
       "5020     11.847802  \n",
       "5021     11.353197  \n",
       "...            ...  \n",
       "12537   -14.615361  \n",
       "12538    12.807649  \n",
       "12539     1.759745  \n",
       "12540    30.410507  \n",
       "12541    32.956383  \n",
       "\n",
       "[7525 rows x 21 columns]"
      ]
     },
     "execution_count": 161,
     "metadata": {},
     "output_type": "execute_result"
    }
   ],
   "source": [
    "dir = str(os.getcwd())\n",
    "datafile = dir + \"/boliga/data/analysis_data.csv\"\n",
    "df = pd.read_csv(datafile, index_col=0)\n",
    "df = df[df['Date_of_sale'] > '2002']"
   ]
  },
  {
   "cell_type": "code",
   "execution_count": 162,
   "metadata": {},
   "outputs": [],
   "source": [
    "dir = str(os.getcwd())\n",
    "datafile = dir + \"/boliga/data/analysis_data.csv\"\n",
    "df = pd.read_csv(datafile, index_col=0)\n",
    "\n",
    "#seperating municipality\n",
    "address = pd.DataFrame([a[0] + ' ' + a[-1][6:]\\\n",
    "           for a in df['Address'].str.split(',')])\n",
    "header=['ad']\n",
    "address.columns=header\n",
    "\n",
    "municipalities = ['Frederiksberg C', 'Frederiksberg', 'København K', 'København V', 'København S', 'København N', 'København Ø']\n",
    "\n",
    "address_list = []\n",
    "\n",
    "for i in address['ad']: \n",
    "    for x in municipalities:\n",
    "        if x in i:\n",
    "            address_list.append(x)\n",
    "            break\n",
    "\n",
    "# Making a list of municipalities            \n",
    "Municipality = pd.DataFrame(address_list)\n",
    "Municipality.columns=['Municipality']\n",
    "\n",
    "# Adding the list to the housing data\n",
    "df['Municipality'] = Municipality\n",
    "df\n",
    "df = df.drop(['Sell_price', 'sqm_price','Date_of_sale','Address', 'location', 'latitude', 'longitude','m_distance_const', 'm_station_const', 's_distance_const',\n",
    "       's_station_const', 's_station', 'm_station'], axis=1).dropna();\n",
    "df = pd.get_dummies(df)\n",
    "df = df.reset_index(drop=True)\n",
    "y = df.z_sqm_price.to_numpy()\n",
    "X = df.drop(['z_sqm_price', 'Type_ Villa ', 'Municipality_København K'], axis=1).to_numpy()\n",
    "X = np.array(X, dtype=np.float64)\n",
    "X, y;"
   ]
  },
  {
   "cell_type": "code",
   "execution_count": 163,
   "metadata": {},
   "outputs": [],
   "source": [
    "# splitting into development (2/3) and test data (1/3)\n",
    "X_dev, X_test, y_dev, y_test = train_test_split(X, y, test_size=1/3, random_state=34)\n",
    "\n",
    "# splitting development into train (1/3) and validation (1/3)\n",
    "X_train, X_val, y_train, y_val = train_test_split(X_dev, y_dev, test_size=1/2, random_state=52)\n",
    "\n",
    "lambda_ = np.logspace(-1, 1, 22)\n",
    "l1_ratio_ = np.logspace(0, 3, 22)\n",
    "tol = 0.001"
   ]
  },
  {
   "cell_type": "markdown",
   "metadata": {},
   "source": [
    "## OLS Regression"
   ]
  },
  {
   "cell_type": "code",
   "execution_count": 164,
   "metadata": {},
   "outputs": [
    {
     "name": "stdout",
     "output_type": "stream",
     "text": [
      "5.388330196532147e+25 7340524638289.0\n"
     ]
    }
   ],
   "source": [
    "pipe_OLS = make_pipeline(PolynomialFeatures(degree = 3, include_bias=True), \n",
    "                           StandardScaler(),\n",
    "                           LinearRegression())\n",
    "                         \n",
    "pipe_OLS.fit(X_dev, y_dev)\n",
    "print(mse(pipe_OLS.predict(X_test),y_test), round(np.sqrt(mse(pipe_OLS.predict(X_test),y_test))))"
   ]
  },
  {
   "cell_type": "markdown",
   "metadata": {},
   "source": [
    "## Lasso Regression"
   ]
  },
  {
   "cell_type": "code",
   "execution_count": 165,
   "metadata": {},
   "outputs": [
    {
     "name": "stdout",
     "output_type": "stream",
     "text": [
      "Float64Index([0.1], dtype='float64', name='lambda')   754.863 27.475\n"
     ]
    }
   ],
   "source": [
    "pipe_lasso = make_pipeline(PolynomialFeatures(degree = 3, include_bias=True), \n",
    "                           StandardScaler(),\n",
    "                           Lasso(max_iter = 10000, alpha=lambda_, tol=tol))\n",
    "\n",
    "train_scores, test_scores = validation_curve(estimator=pipe_lasso,\n",
    "                                             X=X_train, y=y_train,\n",
    "                                             param_name='lasso__alpha',\n",
    "                                             param_range=lambda_,\n",
    "                                             scoring='neg_mean_squared_error',\n",
    "                                             cv=5)\n",
    "\n",
    "mse_score = pd.DataFrame({'Train':-train_scores.mean(axis=1),\n",
    "                          'Validation':-test_scores.mean(axis=1),\n",
    "                          'lambda':lambda_}).set_index('lambda')   \n",
    "\n",
    "optimal_lambda_lasso = mse_score.Validation.nsmallest(1)\n",
    "lambda_o_ = optimal_lambda_lasso.index\n",
    "\n",
    "#testing\n",
    "pipe_lasso = make_pipeline(PolynomialFeatures(degree = 3, include_bias=True), \n",
    "                           StandardScaler(),\n",
    "                           Lasso(max_iter = 10000, alpha=optimal_lambda_lasso.index, tol=tol))\n",
    "\n",
    "pipe_lasso.fit(X_dev, y_dev)\n",
    "print(lambda_o_,' ',round(mse(pipe_lasso.predict(X_test),y_test),3), round(np.sqrt(mse(pipe_lasso.predict(X_test),y_test)),3))"
   ]
  },
  {
   "cell_type": "markdown",
   "metadata": {},
   "source": [
    "## Ridge Regression"
   ]
  },
  {
   "cell_type": "code",
   "execution_count": 166,
   "metadata": {},
   "outputs": [],
   "source": [
    "pipe_ridge = make_pipeline(PolynomialFeatures(degree = 3, include_bias=True), \n",
    "                           StandardScaler(),\n",
    "                           Ridge(alpha = l1_ratio_, tol=tol))\n",
    "\n",
    "train_scores, test_scores = validation_curve(estimator=pipe_ridge,\n",
    "                                             X=X_train, y=y_train,\n",
    "                                             param_name='ridge__alpha',\n",
    "                                             param_range=l1_ratio_,\n",
    "                                             scoring='neg_mean_squared_error',\n",
    "                                             cv=5)\n",
    "\n",
    "mse_score = pd.DataFrame({'Train':-train_scores.mean(axis=1),\n",
    "                          'Validation':-test_scores.mean(axis=1),\n",
    "                          'lambda':l1_ratio_}).set_index('lambda')   \n",
    "\n",
    "lambda_o_ = mse_score.Validation.nsmallest(1)\n",
    "lambda_o_ = lambda_o_.index"
   ]
  },
  {
   "cell_type": "code",
   "execution_count": 167,
   "metadata": {},
   "outputs": [
    {
     "name": "stdout",
     "output_type": "stream",
     "text": [
      "Float64Index([719.6856730011514], dtype='float64', name='lambda')   760.294 27.573\n"
     ]
    }
   ],
   "source": [
    "#testing\n",
    "pipe_ridge = make_pipeline(PolynomialFeatures(degree = 3, include_bias=True), \n",
    "                           StandardScaler(),\n",
    "                           Ridge(alpha = lambda_o_, tol=tol))\n",
    "\n",
    "pipe_ridge.fit(X_dev, y_dev)\n",
    "print(lambda_o_,' ', round(mse(pipe_ridge.predict(X_test),y_test),3), round(np.sqrt(mse(pipe_ridge.predict(X_test),y_test)),3))"
   ]
  },
  {
   "cell_type": "markdown",
   "metadata": {},
   "source": [
    "## LassoCV"
   ]
  },
  {
   "cell_type": "code",
   "execution_count": 195,
   "metadata": {},
   "outputs": [],
   "source": [
    "from sklearn.model_selection import KFold\n",
    "kfolds = KFold(n_splits=10)\n",
    "folds = list(kfolds.split(X_dev, y_dev))\n",
    "\n",
    "# outer loop: lambdas\n",
    "mseCV = []\n",
    "for lambda__ in lambda_:    \n",
    "    # inner loop: folds\n",
    "    mseCV_ = []    \n",
    "    for train_idx, val_idx in folds :        \n",
    "        # train model and compute MSE on test fold\n",
    "        pipe_lassoCV = make_pipeline(PolynomialFeatures(degree=3, include_bias=False),\n",
    "                                     StandardScaler(),\n",
    "                                     Lasso(max_iter = 10000, alpha=lambda__, tol=tol))            \n",
    "        X_train, y_train, = X_dev[train_idx], y_dev[train_idx]\n",
    "        X_val, y_val = X_dev[val_idx], y_dev[val_idx] \n",
    "        pipe_lassoCV.fit(X_train, y_train)        \n",
    "        mseCV_.append(mse(pipe_lassoCV.predict(X_val), y_val))\n",
    "        \n",
    "    # store result    \n",
    "    mseCV.append(mseCV_) \n",
    "    \n",
    "# convert to DataFrame\n",
    "lambdaCV = pd.DataFrame(mseCV, index=lambda_)\n",
    "lambdaCV['m'] = lambdaCV.mean(axis=1)\n",
    "lambda_o_ = lambdaCV['m'].nsmallest(1).index"
   ]
  },
  {
   "cell_type": "code",
   "execution_count": 196,
   "metadata": {},
   "outputs": [
    {
     "name": "stdout",
     "output_type": "stream",
     "text": [
      "Float64Index([0.12451970847350328], dtype='float64')   754.278 27.464\n"
     ]
    }
   ],
   "source": [
    "pipe_lassoCV = make_pipeline(PolynomialFeatures(degree=3, include_bias=False),\n",
    "                                     StandardScaler(),\n",
    "                                     Lasso(max_iter = 10000, alpha=lambda_o_, tol=tol))\n",
    "\n",
    "pipe_lassoCV.fit(X_dev, y_dev)\n",
    "print(lambda_o_,' ',round(mse(pipe_lassoCV.predict(X_test),y_test),3), round(np.sqrt(mse(pipe_lassoCV.predict(X_test),y_test)),3))"
   ]
  },
  {
   "cell_type": "code",
   "execution_count": 199,
   "metadata": {},
   "outputs": [
    {
     "name": "stdout",
     "output_type": "stream",
     "text": [
      "0.15341600725618165\n"
     ]
    }
   ],
   "source": [
    "poly = PolynomialFeatures(3, False)\n",
    "stdr = StandardScaler()\n",
    "poly.fit(X_dev)\n",
    "X_dev_ = poly.transform(X_dev)\n",
    "X_test_ = poly.transform(X_test)\n",
    "X_dev_ = stdr.fit_transform(X_dev_)\n",
    "X_test_ = stdr.transform(X_test_)\n",
    "\n",
    "\n",
    "lasso = Lasso(max_iter = 10000, alpha=lambda_o_, tol=tol)\n",
    "lasso.fit(X_dev_ , y_dev)\n",
    "round(mse(lasso.predict(X_test_), y_test),3) # is same as pipeline model above\n",
    "print(lasso.score(X_test_, y_test))"
   ]
  },
  {
   "cell_type": "code",
   "execution_count": 198,
   "metadata": {},
   "outputs": [],
   "source": [
    "X_columns = list(df.drop(['z_sqm_price', 'Type_ Villa ', 'Municipality_København K'], axis=1).columns)\n",
    "X_columns = poly.get_feature_names(X_columns)\n",
    "\n",
    "coefs = pd.DataFrame(lasso.coef_, index = X_columns)\n",
    "coefs = coefs[coefs[0]!= 0]\n",
    "coefs['abs'] = abs(coefs[0])\n",
    "coefs['b'] = round(coefs[0],3)\n",
    "coefs.to_csv('coefs.csv')"
   ]
  },
  {
   "cell_type": "code",
   "execution_count": 192,
   "metadata": {},
   "outputs": [],
   "source": [
    "def bootstrap_resample(X, n=None):\n",
    "    \"\"\" Bootstrap resample an array_like\n",
    "    Parameters\n",
    "    ----------\n",
    "    X : array_like\n",
    "      data to resample\n",
    "    n : int, optional\n",
    "      length of resampled array, equal to len(X) if n==None\n",
    "    Results\n",
    "    -------\n",
    "    returns X_resamples\n",
    "    \"\"\"\n",
    "    if n == None:\n",
    "        n = len(X)\n",
    "        \n",
    "    resample_i = np.floor(np.random.rand(n)*len(X)).astype(int)\n",
    "    X_resample = X[resample_i]\n",
    "    return X_resample\n",
    "\n",
    "poly = PolynomialFeatures(3, False)\n",
    "stdr = StandardScaler()\n",
    "poly.fit(X_dev)\n",
    "X_dev_ = poly.transform(X_dev)\n",
    "X_test_ = poly.transform(X_test)\n",
    "X_dev_ = stdr.fit_transform(X_dev_)\n",
    "X_test_ = stdr.transform(X_test_)\n",
    "\n",
    "# using ShuffleSplit as a pseudo Bootstrapper\n",
    "# sklearn.Bootstrap() is depreciated\n",
    "ss = ShuffleSplit(n_splits=100, test_size=0.60, random_state=0)\n",
    "ss_ = list(ss.split(X_dev_, y_dev))\n",
    "\n",
    "coefs_ = []\n",
    "for train_idx, val_idx in ss_: \n",
    "    lasso = Lasso(max_iter = 10000, alpha=lambda_o_, tol=tol)\n",
    "    lasso.fit(X_dev_ , y_dev)\n",
    "    lasso.predict(X_test_)\n",
    "    coefs_.append(lasso.coef_)"
   ]
  },
  {
   "cell_type": "code",
   "execution_count": 194,
   "metadata": {},
   "outputs": [
    {
     "ename": "ModuleNotFoundError",
     "evalue": "No module named 'scikits'",
     "output_type": "error",
     "traceback": [
      "\u001b[0;31m---------------------------------------------------------------------------\u001b[0m",
      "\u001b[0;31mModuleNotFoundError\u001b[0m                       Traceback (most recent call last)",
      "\u001b[0;32m<ipython-input-194-4243036ea1b0>\u001b[0m in \u001b[0;36m<module>\u001b[0;34m\u001b[0m\n\u001b[0;32m----> 1\u001b[0;31m \u001b[0;32mimport\u001b[0m \u001b[0mscikits\u001b[0m\u001b[0;34m.\u001b[0m\u001b[0mbootstrap\u001b[0m \u001b[0;32mas\u001b[0m \u001b[0mbootstrap\u001b[0m\u001b[0;34m\u001b[0m\u001b[0;34m\u001b[0m\u001b[0m\n\u001b[0m",
      "\u001b[0;31mModuleNotFoundError\u001b[0m: No module named 'scikits'"
     ]
    }
   ],
   "source": []
  },
  {
   "cell_type": "markdown",
   "metadata": {},
   "source": [
    "## RidgeCV"
   ]
  },
  {
   "cell_type": "code",
   "execution_count": 173,
   "metadata": {},
   "outputs": [],
   "source": [
    "# outer loop: lambdas\n",
    "mseCV = []\n",
    "for l1_ratio__ in l1_ratio_:    \n",
    "    # inner loop: folds\n",
    "    mseCV_ = []    \n",
    "    for train_idx, val_idx in folds :        \n",
    "        # train model and compute MSE on test fold\n",
    "        pipe_ridgeCV = make_pipeline(PolynomialFeatures(degree = 3, include_bias=True), \n",
    "                           StandardScaler(),\n",
    "                           Ridge(alpha = l1_ratio__, tol=tol))          \n",
    "        X_train, y_train, = X_dev[train_idx], y_dev[train_idx]\n",
    "        X_val, y_val = X_dev[val_idx], y_dev[val_idx] \n",
    "        pipe_ridgeCV.fit(X_train, y_train)        \n",
    "        mseCV_.append(mse(pipe_ridgeCV.predict(X_val), y_val))    \n",
    "        \n",
    "    # store result    \n",
    "    mseCV.append(mseCV_) \n",
    "    \n",
    "# convert to DataFrame\n",
    "lambdaCV = pd.DataFrame(mseCV, index=lambda_)\n",
    "lambdaCV['m'] = lambdaCV.mean(axis=1)\n",
    "lambda_o_ = lambdaCV['m'].nsmallest(1).index"
   ]
  },
  {
   "cell_type": "code",
   "execution_count": 175,
   "metadata": {},
   "outputs": [
    {
     "name": "stdout",
     "output_type": "stream",
     "text": [
      "Float64Index([1.7301957388458944], dtype='float64')   760.581 27.579\n"
     ]
    }
   ],
   "source": [
    "pipe_ridgeCV = make_pipeline(PolynomialFeatures(degree = 3, include_bias=True), \n",
    "                           StandardScaler(),\n",
    "                           Ridge(alpha = l1_ratio__, tol=tol))\n",
    "\n",
    "pipe_ridgeCV.fit(X_dev, y_dev)\n",
    "print(lambda_o_,' ', round(mse(pipe_ridgeCV.predict(X_test),y_test),3), round(np.sqrt(mse(pipe_ridgeCV.predict(X_test),y_test)),3))"
   ]
  },
  {
   "cell_type": "markdown",
   "metadata": {},
   "source": [
    "## ElasticNet"
   ]
  },
  {
   "cell_type": "code",
   "execution_count": 185,
   "metadata": {},
   "outputs": [
    {
     "name": "stderr",
     "output_type": "stream",
     "text": [
      "/Library/Frameworks/Python.framework/Versions/3.7/lib/python3.7/site-packages/sklearn/model_selection/_search.py:764: RuntimeWarning: invalid value encountered in subtract\n",
      "  array_means[:, np.newaxis]) ** 2,\n",
      "/Library/Frameworks/Python.framework/Versions/3.7/lib/python3.7/site-packages/sklearn/model_selection/_search.py:764: RuntimeWarning: overflow encountered in square\n",
      "  array_means[:, np.newaxis]) ** 2,\n"
     ]
    },
    {
     "data": {
      "text/plain": [
       "array([ -9.18896539,  -2.25294009,  -9.81766336, ...,  16.91604949,\n",
       "        -1.58708503, -14.135312  ])"
      ]
     },
     "execution_count": 185,
     "metadata": {},
     "output_type": "execute_result"
    }
   ],
   "source": [
    "from sklearn.model_selection import GridSearchCV\n",
    "from sklearn.linear_model import ElasticNet\n",
    "\n",
    "pipe_el = make_pipeline(PolynomialFeatures(include_bias=False), \n",
    "                        StandardScaler(),\n",
    "                        ElasticNet(tol=.01))\n",
    "\n",
    "gs = GridSearchCV(estimator=pipe_el, \n",
    "                  param_grid={'elasticnet__alpha':np.logspace(-1,1,22),\n",
    "                              'elasticnet__l1_ratio':np.linspace(0,3,10)}, \n",
    "                  scoring='neg_mean_squared_error', \n",
    "                  n_jobs=8,\n",
    "                  iid=False,\n",
    "                  cv=10)\n",
    "\n",
    "gs.fit(X_train, y_train)\n",
    "gs.predict(X_train)"
   ]
  },
  {
   "cell_type": "code",
   "execution_count": 186,
   "metadata": {},
   "outputs": [
    {
     "name": "stdout",
     "output_type": "stream",
     "text": [
      "{'elasticnet__alpha': 0.15505157798326247, 'elasticnet__l1_ratio': 1.0}\n",
      "Float64Index([100.0], dtype='float64', name='lambda')   772.807 27.799\n"
     ]
    }
   ],
   "source": [
    "print(gs.best_params_)\n",
    "print(lambda_o_,' ', round(mse(gs.predict(X_test),y_test),3), round(np.sqrt(mse(gs.predict(X_test),y_test)),3))"
   ]
  },
  {
   "cell_type": "code",
   "execution_count": 196,
   "metadata": {},
   "outputs": [],
   "source": [
    "lambda_o_ = gs.best_params_"
   ]
  },
  {
   "cell_type": "code",
   "execution_count": 202,
   "metadata": {},
   "outputs": [
    {
     "data": {
      "text/plain": [
       "0.15505157798326247"
      ]
     },
     "execution_count": 202,
     "metadata": {},
     "output_type": "execute_result"
    }
   ],
   "source": [
    "lambda_o_['elasticnet__alpha']"
   ]
  },
  {
   "cell_type": "code",
   "execution_count": 203,
   "metadata": {},
   "outputs": [],
   "source": [
    "pipe_el = make_pipeline(PolynomialFeatures(include_bias=False), \n",
    "                        StandardScaler(),\n",
    "                        ElasticNet(alpha = lambda_o_['elasticnet__alpha'],\n",
    "                                   l1_ratio= lambda_o_['elasticnet__l1_ratio'],\n",
    "                                   tol=.01))"
   ]
  },
  {
   "cell_type": "code",
   "execution_count": 206,
   "metadata": {},
   "outputs": [
    {
     "data": {
      "text/plain": [
       "array([10.99173854, 19.97830203, -6.56441019, ...,  5.09878742,\n",
       "       -1.62984356,  4.02023822])"
      ]
     },
     "execution_count": 206,
     "metadata": {},
     "output_type": "execute_result"
    }
   ],
   "source": [
    "pipe_el.fit(X_dev, y_dev)\n",
    "pipe_el.predict(X_test)"
   ]
  },
  {
   "cell_type": "code",
   "execution_count": 209,
   "metadata": {},
   "outputs": [
    {
     "data": {
      "text/plain": [
       "(769.556, 27.741)"
      ]
     },
     "execution_count": 209,
     "metadata": {},
     "output_type": "execute_result"
    }
   ],
   "source": [
    "round(mse(pipe_el.predict(X_test),y_test),3), round(np.sqrt(mse(pipe_el.predict(X_test),y_test)),3)"
   ]
  },
  {
   "cell_type": "markdown",
   "metadata": {},
   "source": [
    "### Latex tabel with overview model fit\n",
    "```\n",
    "\\begin{table}[]\n",
    "\\begin{tabular}{lcccccc}\n",
    " & \\multicolumn{1}{l}{\\textbf{OLS}} & \\multicolumn{1}{l}{\\textbf{Lasso}} & \\multicolumn{1}{l}{\\textbf{LassoCV}} & \\multicolumn{1}{l}{\\textbf{Ridge}} & \\multicolumn{1}{l}{\\textbf{RidgeCV}} & \\multicolumn{1}{l}{\\textbf{ElasticNet}} \\\\\n",
    "Lambda & - & 0.100 & .125 & 100.000 & 1.730 & (.155, 1.000) \\\\\n",
    "MSE & 5.4e25 & 754.863 & 754.278 & 761.543 & 760.581 & 769.556 \\\\\n",
    "RMSE & 7.4e12 & 27.475 & 27.464 & 27.596 & 27.579 & 27.741\n",
    "\\end{tabular}\n",
    "\\end{table}\n",
    "```"
   ]
  },
  {
   "cell_type": "markdown",
   "metadata": {},
   "source": [
    "# lassoCV preforms best: "
   ]
  },
  {
   "cell_type": "code",
   "execution_count": null,
   "metadata": {},
   "outputs": [],
   "source": []
  }
 ],
 "metadata": {
  "kernelspec": {
   "display_name": "Python 3",
   "language": "python",
   "name": "python3"
  },
  "language_info": {
   "codemirror_mode": {
    "name": "ipython",
    "version": 3
   },
   "file_extension": ".py",
   "mimetype": "text/x-python",
   "name": "python",
   "nbconvert_exporter": "python",
   "pygments_lexer": "ipython3",
   "version": "3.7.3"
  }
 },
 "nbformat": 4,
 "nbformat_minor": 2
}
